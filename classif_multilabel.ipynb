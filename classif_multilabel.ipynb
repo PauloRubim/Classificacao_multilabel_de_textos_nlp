{
 "cells": [
  {
   "cell_type": "markdown",
   "id": "2e1b1ae6-1bed-4752-b399-8af2147cd166",
   "metadata": {},
   "source": [
    "### Classificação multilabel de textos: múltiplos contextos em NLP"
   ]
  },
  {
   "cell_type": "markdown",
   "id": "fa195faa-a2a1-41be-8df6-0c107491a5b1",
   "metadata": {},
   "source": [
    "Neste projeto vamos criar um modelo de machine learning capaz de classificar as perguntas do Stackoverflow de acordo com seu conteúdo.  \n",
    "\n",
    "<div style=\"text-align: center;\">\n",
    "    <img title=\"a title\" alt=\"Alt text\" width=\"500\" height=\"300\" src=\"perguntas_stackoverflow.jpeg\">\n",
    "</div>"
   ]
  },
  {
   "cell_type": "markdown",
   "id": "8a84a5ef-9061-4e39-bbf7-70db9122d914",
   "metadata": {},
   "source": [
    "Ao entrarmos no site do [Stackoverflow](https://stackoverflow.com/questions \"perguntas\") na sessão de perguntas podemos perceber que existem tags/labels nas perguntas. Ao fazermos uma pergunta no site conseguimos colocar essas tags. Desse modo a base de dados do nosso projeto é baseado nas perguntas e tags do Stackoverflow. "
   ]
  },
  {
   "cell_type": "markdown",
   "id": "3065ca96-a5c3-4df3-a12c-abd351336139",
   "metadata": {},
   "source": [
    "Podemos perceber que estamos lidando com um problema de classificação multilabel pelo fato de termos duas uma mais classes relacionadas a uma pergunta. "
   ]
  },
  {
   "cell_type": "code",
   "execution_count": 1,
   "id": "e44dfc2c-71bc-443e-8a3a-b78caed9ba3d",
   "metadata": {},
   "outputs": [
    {
     "data": {
      "text/html": [
       "<div>\n",
       "<style scoped>\n",
       "    .dataframe tbody tr th:only-of-type {\n",
       "        vertical-align: middle;\n",
       "    }\n",
       "\n",
       "    .dataframe tbody tr th {\n",
       "        vertical-align: top;\n",
       "    }\n",
       "\n",
       "    .dataframe thead th {\n",
       "        text-align: right;\n",
       "    }\n",
       "</style>\n",
       "<table border=\"1\" class=\"dataframe\">\n",
       "  <thead>\n",
       "    <tr style=\"text-align: right;\">\n",
       "      <th></th>\n",
       "      <th>Perguntas</th>\n",
       "      <th>Tags</th>\n",
       "    </tr>\n",
       "  </thead>\n",
       "  <tbody>\n",
       "    <tr>\n",
       "      <th>3493</th>\n",
       "      <td>Criei um script chamado 'teste.js\" apenas para...</td>\n",
       "      <td>node.js</td>\n",
       "    </tr>\n",
       "    <tr>\n",
       "      <th>4212</th>\n",
       "      <td>Então depois de uma verdadeira peregrinação qu...</td>\n",
       "      <td>jquery</td>\n",
       "    </tr>\n",
       "    <tr>\n",
       "      <th>3851</th>\n",
       "      <td>Tenho uma página principal com um formulário s...</td>\n",
       "      <td>jquery html</td>\n",
       "    </tr>\n",
       "    <tr>\n",
       "      <th>491</th>\n",
       "      <td>Estou com um problema e acredito que o mesmo e...</td>\n",
       "      <td>angular</td>\n",
       "    </tr>\n",
       "    <tr>\n",
       "      <th>4470</th>\n",
       "      <td>Estou com um sistema onde todos os módulos pos...</td>\n",
       "      <td>angular</td>\n",
       "    </tr>\n",
       "    <tr>\n",
       "      <th>1608</th>\n",
       "      <td>CODE   queria adicionar dentro do array CODE  ...</td>\n",
       "      <td>jquery</td>\n",
       "    </tr>\n",
       "    <tr>\n",
       "      <th>3573</th>\n",
       "      <td>Como fazer uma paginação sob demanda com Angul...</td>\n",
       "      <td>angular</td>\n",
       "    </tr>\n",
       "    <tr>\n",
       "      <th>2844</th>\n",
       "      <td>Estou tendo dificuldades para acessar a api us...</td>\n",
       "      <td>jquery</td>\n",
       "    </tr>\n",
       "    <tr>\n",
       "      <th>4558</th>\n",
       "      <td>criei um servidor socket bem simples com NodeJ...</td>\n",
       "      <td>node.js</td>\n",
       "    </tr>\n",
       "    <tr>\n",
       "      <th>2404</th>\n",
       "      <td>Galera, estou procurando esse slider, mas nã...</td>\n",
       "      <td>jquery</td>\n",
       "    </tr>\n",
       "  </tbody>\n",
       "</table>\n",
       "</div>"
      ],
      "text/plain": [
       "                                              Perguntas         Tags\n",
       "3493  Criei um script chamado 'teste.js\" apenas para...     node.js \n",
       "4212  Então depois de uma verdadeira peregrinação qu...       jquery\n",
       "3851  Tenho uma página principal com um formulário s...  jquery html\n",
       "491   Estou com um problema e acredito que o mesmo e...      angular\n",
       "4470  Estou com um sistema onde todos os módulos pos...      angular\n",
       "1608  CODE   queria adicionar dentro do array CODE  ...      jquery \n",
       "3573  Como fazer uma paginação sob demanda com Angul...      angular\n",
       "2844  Estou tendo dificuldades para acessar a api us...      jquery \n",
       "4558  criei um servidor socket bem simples com NodeJ...      node.js\n",
       "2404    Galera, estou procurando esse slider, mas nã...       jquery"
      ]
     },
     "execution_count": 1,
     "metadata": {},
     "output_type": "execute_result"
    }
   ],
   "source": [
    "import pandas as pd\n",
    "\n",
    "perguntas = pd.read_csv(\"stackoverflow_perguntas.csv\")\n",
    "perguntas.sample(10)"
   ]
  },
  {
   "cell_type": "code",
   "execution_count": 2,
   "id": "37198e17-4369-4531-9834-960737ecbc99",
   "metadata": {},
   "outputs": [
    {
     "data": {
      "text/plain": [
       "(5408, 2)"
      ]
     },
     "execution_count": 2,
     "metadata": {},
     "output_type": "execute_result"
    }
   ],
   "source": [
    "perguntas.shape"
   ]
  },
  {
   "cell_type": "markdown",
   "id": "e47a6794-cea6-4758-9557-f614b6eff946",
   "metadata": {},
   "source": [
    "Aqui temos alguns problemas muito comuns quando estamos lidando com strings. Temos algumas strings como o caso da 'html' e 'html ' que pelo ' ' (espaço) são tratadas como diferentes. Ou a 'html angular  ' e 'angular html' em que apenas a ordem está trocada. "
   ]
  },
  {
   "cell_type": "code",
   "execution_count": 3,
   "id": "1e06d800-5c20-4858-aa27-924065dd2b91",
   "metadata": {},
   "outputs": [
    {
     "data": {
      "text/plain": [
       "array(['node.js', 'jquery', 'html', 'html angular ', 'html ', 'angular',\n",
       "       'angular ', 'jquery html  ', 'jquery ', 'jquery html',\n",
       "       'jquery html ', 'html angular', 'angular node.js ', 'html  ',\n",
       "       'jquery html angular', 'node.js ', 'html jquery', 'html jquery ',\n",
       "       'jquery angular  ', 'html node.js', 'jquery  ', 'angular node.js',\n",
       "       'jquery angular', 'html node.js ', 'jquery node.js ', 'angular  ',\n",
       "       'jquery angular ', 'jquery html angular ', 'node.js html ',\n",
       "       ' node.js', 'node.js html', 'html angular  ', 'jquery node.js',\n",
       "       'angular html', 'html angular  node.js', 'jquery html node.js',\n",
       "       'html angular node.js'], dtype=object)"
      ]
     },
     "execution_count": 3,
     "metadata": {},
     "output_type": "execute_result"
    }
   ],
   "source": [
    "perguntas.Tags.unique()"
   ]
  },
  {
   "cell_type": "markdown",
   "id": "b4fc5603-5478-4403-8345-decd030312d2",
   "metadata": {},
   "source": [
    "Nesta célula estamos extraindo os nomes das tags. Podemos perceber que nossas tags se resumem em quatro."
   ]
  },
  {
   "cell_type": "code",
   "execution_count": 4,
   "id": "06c922ad-5a69-4ebd-9f71-e4b9632b0635",
   "metadata": {},
   "outputs": [
    {
     "data": {
      "text/plain": [
       "['node.js', 'jquery', 'html', 'angular']"
      ]
     },
     "execution_count": 4,
     "metadata": {},
     "output_type": "execute_result"
    }
   ],
   "source": [
    "lista_de_tags = list()\n",
    "for tags in perguntas.Tags.unique():\n",
    "    for tag in tags.split():\n",
    "        if tag not in lista_de_tags:\n",
    "            lista_de_tags.append(tag)\n",
    "            \n",
    "lista_de_tags       "
   ]
  },
  {
   "cell_type": "markdown",
   "id": "ea1998be-4e36-4848-b17b-462dd08ec03f",
   "metadata": {},
   "source": [
    "É interessante \"Binarizarmos\" nossas tags já que os algoritmos trabalham com operações matemáticas, ou seja, criar colunas para cada tag e colocar 1 nas linhas onde tiverem perguntas relacionadas com as respectivas tags se não colocar 0. "
   ]
  },
  {
   "cell_type": "code",
   "execution_count": 5,
   "id": "fad6aa98-059c-4728-b765-02bcbe7da727",
   "metadata": {},
   "outputs": [
    {
     "data": {
      "text/html": [
       "<div>\n",
       "<style scoped>\n",
       "    .dataframe tbody tr th:only-of-type {\n",
       "        vertical-align: middle;\n",
       "    }\n",
       "\n",
       "    .dataframe tbody tr th {\n",
       "        vertical-align: top;\n",
       "    }\n",
       "\n",
       "    .dataframe thead th {\n",
       "        text-align: right;\n",
       "    }\n",
       "</style>\n",
       "<table border=\"1\" class=\"dataframe\">\n",
       "  <thead>\n",
       "    <tr style=\"text-align: right;\">\n",
       "      <th></th>\n",
       "      <th>Perguntas</th>\n",
       "      <th>Tags</th>\n",
       "      <th>node.js</th>\n",
       "      <th>jquery</th>\n",
       "      <th>html</th>\n",
       "      <th>angular</th>\n",
       "    </tr>\n",
       "  </thead>\n",
       "  <tbody>\n",
       "    <tr>\n",
       "      <th>4767</th>\n",
       "      <td>Gostaria de um auxílio no meu problema. Gostar...</td>\n",
       "      <td>jquery</td>\n",
       "      <td>0</td>\n",
       "      <td>1</td>\n",
       "      <td>0</td>\n",
       "      <td>0</td>\n",
       "    </tr>\n",
       "    <tr>\n",
       "      <th>4569</th>\n",
       "      <td>Tenho duas classes A e B, preciso que quando p...</td>\n",
       "      <td>jquery</td>\n",
       "      <td>0</td>\n",
       "      <td>1</td>\n",
       "      <td>0</td>\n",
       "      <td>0</td>\n",
       "    </tr>\n",
       "    <tr>\n",
       "      <th>4743</th>\n",
       "      <td>Tenho este arquivo que monta o menu.  CODE   A...</td>\n",
       "      <td>angular</td>\n",
       "      <td>0</td>\n",
       "      <td>0</td>\n",
       "      <td>0</td>\n",
       "      <td>1</td>\n",
       "    </tr>\n",
       "    <tr>\n",
       "      <th>2894</th>\n",
       "      <td>Tenho uma página de Login, na qual tem um form...</td>\n",
       "      <td>jquery</td>\n",
       "      <td>0</td>\n",
       "      <td>1</td>\n",
       "      <td>0</td>\n",
       "      <td>0</td>\n",
       "    </tr>\n",
       "    <tr>\n",
       "      <th>5403</th>\n",
       "      <td>Queria saber como pegar o total de cores de um...</td>\n",
       "      <td>jquery html</td>\n",
       "      <td>0</td>\n",
       "      <td>1</td>\n",
       "      <td>1</td>\n",
       "      <td>0</td>\n",
       "    </tr>\n",
       "    <tr>\n",
       "      <th>1296</th>\n",
       "      <td>Galera boa tarde.  Como faço uma função em jav...</td>\n",
       "      <td>html</td>\n",
       "      <td>0</td>\n",
       "      <td>0</td>\n",
       "      <td>1</td>\n",
       "      <td>0</td>\n",
       "    </tr>\n",
       "    <tr>\n",
       "      <th>4604</th>\n",
       "      <td>Dentro da Factory tem uma variável CODE  com v...</td>\n",
       "      <td>angular</td>\n",
       "      <td>0</td>\n",
       "      <td>0</td>\n",
       "      <td>0</td>\n",
       "      <td>1</td>\n",
       "    </tr>\n",
       "    <tr>\n",
       "      <th>3111</th>\n",
       "      <td>CODE   CODE</td>\n",
       "      <td>jquery html</td>\n",
       "      <td>0</td>\n",
       "      <td>1</td>\n",
       "      <td>1</td>\n",
       "      <td>0</td>\n",
       "    </tr>\n",
       "    <tr>\n",
       "      <th>3727</th>\n",
       "      <td>Tenho um link do Click to Call que me retorna ...</td>\n",
       "      <td>jquery</td>\n",
       "      <td>0</td>\n",
       "      <td>1</td>\n",
       "      <td>0</td>\n",
       "      <td>0</td>\n",
       "    </tr>\n",
       "    <tr>\n",
       "      <th>5264</th>\n",
       "      <td>Estou definido algumas funções semelhantes par...</td>\n",
       "      <td>jquery</td>\n",
       "      <td>0</td>\n",
       "      <td>1</td>\n",
       "      <td>0</td>\n",
       "      <td>0</td>\n",
       "    </tr>\n",
       "  </tbody>\n",
       "</table>\n",
       "</div>"
      ],
      "text/plain": [
       "                                              Perguntas          Tags  \\\n",
       "4767  Gostaria de um auxílio no meu problema. Gostar...        jquery   \n",
       "4569  Tenho duas classes A e B, preciso que quando p...       jquery    \n",
       "4743  Tenho este arquivo que monta o menu.  CODE   A...       angular   \n",
       "2894  Tenho uma página de Login, na qual tem um form...       jquery    \n",
       "5403  Queria saber como pegar o total de cores de um...  jquery html    \n",
       "1296  Galera boa tarde.  Como faço uma função em jav...          html   \n",
       "4604  Dentro da Factory tem uma variável CODE  com v...       angular   \n",
       "3111                                        CODE   CODE  jquery html    \n",
       "3727  Tenho um link do Click to Call que me retorna ...       jquery    \n",
       "5264  Estou definido algumas funções semelhantes par...        jquery   \n",
       "\n",
       "      node.js  jquery  html  angular  \n",
       "4767        0       1     0        0  \n",
       "4569        0       1     0        0  \n",
       "4743        0       0     0        1  \n",
       "2894        0       1     0        0  \n",
       "5403        0       1     1        0  \n",
       "1296        0       0     1        0  \n",
       "4604        0       0     0        1  \n",
       "3111        0       1     1        0  \n",
       "3727        0       1     0        0  \n",
       "5264        0       1     0        0  "
      ]
     },
     "execution_count": 5,
     "metadata": {},
     "output_type": "execute_result"
    }
   ],
   "source": [
    "def nova_coluna(lista_tags, dataframe, nome_tags):\n",
    "    for tag in lista_tags:\n",
    "        coluna = list()\n",
    "        for linha_tag in dataframe[nome_tags]:\n",
    "            if tag in linha_tag:\n",
    "                coluna.append(1)\n",
    "            else:\n",
    "                coluna.append(0)\n",
    "        dataframe[tag] = coluna\n",
    "nova_coluna(lista_de_tags, perguntas, \"Tags\")\n",
    "perguntas.sample(10)"
   ]
  },
  {
   "cell_type": "markdown",
   "id": "b93dd0a4-ec10-4186-98d1-b977b00ab401",
   "metadata": {},
   "source": [
    "Precisamos agrupar nossas tags binarizadas para facilitar a divisão e o treinamento."
   ]
  },
  {
   "cell_type": "code",
   "execution_count": 6,
   "id": "6eb9aaf1-2367-40af-ad47-3eb5ea55fec4",
   "metadata": {},
   "outputs": [
    {
     "data": {
      "text/html": [
       "<div>\n",
       "<style scoped>\n",
       "    .dataframe tbody tr th:only-of-type {\n",
       "        vertical-align: middle;\n",
       "    }\n",
       "\n",
       "    .dataframe tbody tr th {\n",
       "        vertical-align: top;\n",
       "    }\n",
       "\n",
       "    .dataframe thead th {\n",
       "        text-align: right;\n",
       "    }\n",
       "</style>\n",
       "<table border=\"1\" class=\"dataframe\">\n",
       "  <thead>\n",
       "    <tr style=\"text-align: right;\">\n",
       "      <th></th>\n",
       "      <th>Perguntas</th>\n",
       "      <th>Tags</th>\n",
       "      <th>node.js</th>\n",
       "      <th>jquery</th>\n",
       "      <th>html</th>\n",
       "      <th>angular</th>\n",
       "      <th>todas_tags</th>\n",
       "    </tr>\n",
       "  </thead>\n",
       "  <tbody>\n",
       "    <tr>\n",
       "      <th>4356</th>\n",
       "      <td>Tenho um sistema do qual mostra o resultado de...</td>\n",
       "      <td>jquery</td>\n",
       "      <td>0</td>\n",
       "      <td>1</td>\n",
       "      <td>0</td>\n",
       "      <td>0</td>\n",
       "      <td>(0, 1, 0, 0)</td>\n",
       "    </tr>\n",
       "    <tr>\n",
       "      <th>2281</th>\n",
       "      <td>Gostaria de saber como posso encobrir o endere...</td>\n",
       "      <td>jquery</td>\n",
       "      <td>0</td>\n",
       "      <td>1</td>\n",
       "      <td>0</td>\n",
       "      <td>0</td>\n",
       "      <td>(0, 1, 0, 0)</td>\n",
       "    </tr>\n",
       "    <tr>\n",
       "      <th>3828</th>\n",
       "      <td>Utilizo a API do highcharts para gerar gráfico...</td>\n",
       "      <td>html</td>\n",
       "      <td>0</td>\n",
       "      <td>0</td>\n",
       "      <td>1</td>\n",
       "      <td>0</td>\n",
       "      <td>(0, 0, 1, 0)</td>\n",
       "    </tr>\n",
       "    <tr>\n",
       "      <th>5162</th>\n",
       "      <td>Gostaria de saber como em php ou javascript co...</td>\n",
       "      <td>jquery</td>\n",
       "      <td>0</td>\n",
       "      <td>1</td>\n",
       "      <td>0</td>\n",
       "      <td>0</td>\n",
       "      <td>(0, 1, 0, 0)</td>\n",
       "    </tr>\n",
       "    <tr>\n",
       "      <th>3178</th>\n",
       "      <td>Estou precisando fazer uma validação no campo ...</td>\n",
       "      <td>html</td>\n",
       "      <td>0</td>\n",
       "      <td>0</td>\n",
       "      <td>1</td>\n",
       "      <td>0</td>\n",
       "      <td>(0, 0, 1, 0)</td>\n",
       "    </tr>\n",
       "    <tr>\n",
       "      <th>3847</th>\n",
       "      <td>Tenho uma tabela, na última coluna de cada lin...</td>\n",
       "      <td>html</td>\n",
       "      <td>0</td>\n",
       "      <td>0</td>\n",
       "      <td>1</td>\n",
       "      <td>0</td>\n",
       "      <td>(0, 0, 1, 0)</td>\n",
       "    </tr>\n",
       "    <tr>\n",
       "      <th>78</th>\n",
       "      <td>Tenho vários registros em PHP, e ao clicar em ...</td>\n",
       "      <td>jquery</td>\n",
       "      <td>0</td>\n",
       "      <td>1</td>\n",
       "      <td>0</td>\n",
       "      <td>0</td>\n",
       "      <td>(0, 1, 0, 0)</td>\n",
       "    </tr>\n",
       "    <tr>\n",
       "      <th>1275</th>\n",
       "      <td>Não estou conseguindo listas os dados de um Js...</td>\n",
       "      <td>jquery</td>\n",
       "      <td>0</td>\n",
       "      <td>1</td>\n",
       "      <td>0</td>\n",
       "      <td>0</td>\n",
       "      <td>(0, 1, 0, 0)</td>\n",
       "    </tr>\n",
       "    <tr>\n",
       "      <th>5061</th>\n",
       "      <td>Estou fazendo um aplicativo onde o usuário gra...</td>\n",
       "      <td>node.js</td>\n",
       "      <td>1</td>\n",
       "      <td>0</td>\n",
       "      <td>0</td>\n",
       "      <td>0</td>\n",
       "      <td>(1, 0, 0, 0)</td>\n",
       "    </tr>\n",
       "    <tr>\n",
       "      <th>4743</th>\n",
       "      <td>Tenho este arquivo que monta o menu.  CODE   A...</td>\n",
       "      <td>angular</td>\n",
       "      <td>0</td>\n",
       "      <td>0</td>\n",
       "      <td>0</td>\n",
       "      <td>1</td>\n",
       "      <td>(0, 0, 0, 1)</td>\n",
       "    </tr>\n",
       "  </tbody>\n",
       "</table>\n",
       "</div>"
      ],
      "text/plain": [
       "                                              Perguntas      Tags  node.js  \\\n",
       "4356  Tenho um sistema do qual mostra o resultado de...    jquery        0   \n",
       "2281  Gostaria de saber como posso encobrir o endere...    jquery        0   \n",
       "3828  Utilizo a API do highcharts para gerar gráfico...     html         0   \n",
       "5162  Gostaria de saber como em php ou javascript co...    jquery        0   \n",
       "3178  Estou precisando fazer uma validação no campo ...     html         0   \n",
       "3847  Tenho uma tabela, na última coluna de cada lin...      html        0   \n",
       "78    Tenho vários registros em PHP, e ao clicar em ...   jquery         0   \n",
       "1275  Não estou conseguindo listas os dados de um Js...  jquery          0   \n",
       "5061  Estou fazendo um aplicativo onde o usuário gra...  node.js         1   \n",
       "4743  Tenho este arquivo que monta o menu.  CODE   A...   angular        0   \n",
       "\n",
       "      jquery  html  angular    todas_tags  \n",
       "4356       1     0        0  (0, 1, 0, 0)  \n",
       "2281       1     0        0  (0, 1, 0, 0)  \n",
       "3828       0     1        0  (0, 0, 1, 0)  \n",
       "5162       1     0        0  (0, 1, 0, 0)  \n",
       "3178       0     1        0  (0, 0, 1, 0)  \n",
       "3847       0     1        0  (0, 0, 1, 0)  \n",
       "78         1     0        0  (0, 1, 0, 0)  \n",
       "1275       1     0        0  (0, 1, 0, 0)  \n",
       "5061       0     0        0  (1, 0, 0, 0)  \n",
       "4743       0     0        1  (0, 0, 0, 1)  "
      ]
     },
     "execution_count": 6,
     "metadata": {},
     "output_type": "execute_result"
    }
   ],
   "source": [
    "lista_zip_tags = list(zip(perguntas[lista_de_tags[0]],\n",
    "                          perguntas[lista_de_tags[1]],\n",
    "                          perguntas[lista_de_tags[2]],\n",
    "                          perguntas[lista_de_tags[3]]))\n",
    "\n",
    "perguntas[\"todas_tags\"] = lista_zip_tags\n",
    "perguntas.sample(10)"
   ]
  },
  {
   "cell_type": "markdown",
   "id": "aa80ea2e-2278-4b28-a58d-f909b8a91d0a",
   "metadata": {},
   "source": [
    "Dividindo nossa base de dados."
   ]
  },
  {
   "cell_type": "code",
   "execution_count": 7,
   "id": "e17756a4-8321-4e9a-b996-78d13b715da3",
   "metadata": {},
   "outputs": [],
   "source": [
    "from sklearn.model_selection import train_test_split\n",
    "\n",
    "perguntas_treino, perguntas_test, tags_treino, tags_teste = train_test_split(\n",
    "    perguntas.Perguntas,\n",
    "    perguntas.todas_tags,\n",
    "    test_size = 0.2,\n",
    "    random_state = 123\n",
    ")"
   ]
  },
  {
   "cell_type": "markdown",
   "id": "2099d65b-3f9a-4e19-968c-97db0bd4e4c9",
   "metadata": {},
   "source": [
    "Da mesma forma que termos strings como labels não é interessante, termos as variáveis preditoras como strings também fica difícil de construir alguma coisa. Temos que fazer uma transformação nessas variáveis."
   ]
  },
  {
   "cell_type": "code",
   "execution_count": 8,
   "id": "d86a7040-3a09-4a0b-9d25-2e16a2a72171",
   "metadata": {},
   "outputs": [
    {
     "data": {
      "text/plain": [
       "1577       array1 = [1,2,3];   array2 = [\"um\",\"dois\",\"...\n",
       "1927    Não sei se fui claro no título, mas quem é da ...\n",
       "3409    Alguém sabe me dizer qual a melhor forma de re...\n",
       "4606    Estou com problemas ao tentar validar campos d...\n",
       "5237    Preciso copiar um valor de dentro de um CODE  ...\n",
       "Name: Perguntas, dtype: object"
      ]
     },
     "execution_count": 8,
     "metadata": {},
     "output_type": "execute_result"
    }
   ],
   "source": [
    "perguntas_treino.head()"
   ]
  },
  {
   "cell_type": "markdown",
   "id": "6942e32c-8f6b-4d8a-86a4-b10a751aeb45",
   "metadata": {},
   "source": [
    "Iremos utilizar uma técnica chamada TF-IDF. É a técnica que utilizamos para transformar a linguagem humana em números. É uma técnica que vai dar valores diferentes para as palavras. As que tem significância maior, um grau de distinção entre uma frase e outra, recebe um valor maior. A principal característica do TF-IDF é ser uma pontuação proporcional à frequência da palavra no texto e equilibrada pela frequência no corpus, ou seja, palavras que se repetem muito tendem a ter pontuações menores e são menos relevantes no processo de classificação."
   ]
  },
  {
   "cell_type": "code",
   "execution_count": 9,
   "id": "5d4431af-b607-4c02-8684-528890f09216",
   "metadata": {},
   "outputs": [
    {
     "data": {
      "text/plain": [
       "TfidfVectorizer(max_df=0.85, max_features=5000)"
      ]
     },
     "execution_count": 9,
     "metadata": {},
     "output_type": "execute_result"
    }
   ],
   "source": [
    "from sklearn.feature_extraction.text import TfidfVectorizer\n",
    "\n",
    "# max_features é o tamanho do vetor, ou seja, quantas palavras no meu texto \n",
    "# max_df = se uma palavra estiver presente em 85% do meu texto, eu desconsidero essa palavra\n",
    "vetorizar = TfidfVectorizer(max_features=5000, max_df=0.85)\n",
    "vetorizar"
   ]
  },
  {
   "cell_type": "code",
   "execution_count": 10,
   "id": "861276b3-6988-46f5-bb16-09cd04049a78",
   "metadata": {},
   "outputs": [
    {
     "name": "stdout",
     "output_type": "stream",
     "text": [
      "(4326, 5000)\n",
      "(1082, 5000)\n"
     ]
    }
   ],
   "source": [
    "vetorizar.fit(perguntas.Perguntas)\n",
    "perguntas_treino_tfidf = vetorizar.transform(perguntas_treino)\n",
    "perguntas_test_tfidf = vetorizar.transform(perguntas_test)\n",
    "print(perguntas_treino_tfidf.shape)\n",
    "print(perguntas_test_tfidf.shape)"
   ]
  },
  {
   "cell_type": "markdown",
   "id": "973429a6-5275-4838-ba65-0402e3064a57",
   "metadata": {},
   "source": [
    "Temos que transformar em um array de listas, o algoritmo não suporta series nem tuplas. "
   ]
  },
  {
   "cell_type": "code",
   "execution_count": 11,
   "id": "d0409564-3e50-42a2-ad9d-7aff9d948c44",
   "metadata": {},
   "outputs": [
    {
     "data": {
      "text/plain": [
       "pandas.core.series.Series"
      ]
     },
     "execution_count": 11,
     "metadata": {},
     "output_type": "execute_result"
    }
   ],
   "source": [
    "type(tags_treino)"
   ]
  },
  {
   "cell_type": "code",
   "execution_count": 12,
   "id": "0cff7ea1-64d0-45e8-9bd7-81b06860a1c7",
   "metadata": {},
   "outputs": [
    {
     "name": "stdout",
     "output_type": "stream",
     "text": [
      "[[0 1 0 0]\n",
      " [0 1 0 0]\n",
      " [0 0 1 0]\n",
      " ...\n",
      " [0 1 1 0]\n",
      " [0 0 1 0]\n",
      " [0 1 1 0]]\n",
      "<class 'numpy.ndarray'>\n"
     ]
    }
   ],
   "source": [
    "import numpy as np\n",
    "\n",
    "tags_treino_array = np.asarray(list(tags_treino))\n",
    "tags_teste_array = np.asarray(list(tags_teste))\n",
    "print(tags_treino_array)\n",
    "print(type(tags_treino_array))"
   ]
  },
  {
   "cell_type": "markdown",
   "id": "01c2913c-6cf6-4c5e-8e3b-6aac6a90f53d",
   "metadata": {},
   "source": [
    "Essa acuracia é medida pelo acerto da linha completa, ou seja, de todas as tags. Também chamamos de Exact match."
   ]
  },
  {
   "cell_type": "code",
   "execution_count": 13,
   "id": "1e92737b-eac3-4770-9461-1b9bbf86e088",
   "metadata": {},
   "outputs": [
    {
     "name": "stdout",
     "output_type": "stream",
     "text": [
      "Resultado  41.68%\n"
     ]
    }
   ],
   "source": [
    "from sklearn.multiclass import OneVsRestClassifier\n",
    "from sklearn.linear_model import LogisticRegression\n",
    "\n",
    "regressao_logistica = LogisticRegression()\n",
    "classificador_onevsrest = OneVsRestClassifier(regressao_logistica)\n",
    "classificador_onevsrest.fit(perguntas_treino_tfidf, tags_treino_array)\n",
    "\n",
    "resultado_onevsrest = classificador_onevsrest.score(perguntas_test_tfidf, tags_teste_array)\n",
    "print(\"Resultado {0: .2f}%\".format(resultado_onevsrest*100))"
   ]
  },
  {
   "cell_type": "markdown",
   "id": "2069ac45-85ae-4dbe-b34f-13dc10dec9d3",
   "metadata": {},
   "source": [
    "Outra técnica de avaliação do nosso modelo é o Hamming Loss. Este avalia os acertos de cada label individualmente. Diferente da acurácia, aqui quanto mais próximo de zero melhor. "
   ]
  },
  {
   "cell_type": "markdown",
   "id": "5610a7b6-23f9-4327-98a4-2ae8e52716fa",
   "metadata": {},
   "source": [
    "Utilizaremos a técnica de avaliação que mais fizer sentido no contexto do nosso problema."
   ]
  },
  {
   "cell_type": "code",
   "execution_count": 14,
   "id": "18ccf3d0-1a34-471f-b707-a517b6e26b12",
   "metadata": {},
   "outputs": [
    {
     "name": "stdout",
     "output_type": "stream",
     "text": [
      "Hamming Loss  0.19\n"
     ]
    }
   ],
   "source": [
    "from sklearn.metrics import hamming_loss\n",
    "\n",
    "# o score() só da o resultado da predição, aqui precisamos saber as presições: \n",
    "previsao_onevsrest = classificador_onevsrest.predict(perguntas_test_tfidf) \n",
    "hamming_loss_onevsrest = hamming_loss(tags_teste_array, previsao_onevsrest)\n",
    "print(\"Hamming Loss {0: .2f}\".format(hamming_loss_onevsrest))   "
   ]
  },
  {
   "cell_type": "code",
   "execution_count": 15,
   "id": "44f7035c-2468-4688-9c36-36a5a75b9dc7",
   "metadata": {},
   "outputs": [],
   "source": [
    "#!pip install scikit-learn==0.24.1 --user"
   ]
  },
  {
   "cell_type": "markdown",
   "id": "3bce42e4-6b40-47b3-939c-542751d2e48d",
   "metadata": {},
   "source": [
    "Outra opção para realizarmos a classificação é utizar a Classificação em cadeia. Da mesma maneira que o modelo de relevãncia binária a classificação em cadeia vai criar um modelo para cada coluna. O que vai mudar é a construção da base de treinamento. Uma vez que a primeira coluna é treinada ela também vai servir de imput para classificar a segunda coluna o resultado do treinamento também vai servir de imput para classificar a terceira coluna e assim sucessivamente. "
   ]
  },
  {
   "cell_type": "code",
   "execution_count": 16,
   "id": "626c8e46-fc2d-4211-a044-dce94fc140b2",
   "metadata": {},
   "outputs": [
    {
     "name": "stdout",
     "output_type": "stream",
     "text": [
      "Hamming Loss  0.21\n",
      "Resultado  49.82%\n"
     ]
    }
   ],
   "source": [
    "from skmultilearn.problem_transform import ClassifierChain\n",
    "\n",
    "classificador_cadeia = ClassifierChain(regressao_logistica)\n",
    "classificador_cadeia.fit(perguntas_treino_tfidf, tags_treino_array)\n",
    "resultado_cadeia = classificador_cadeia.score(perguntas_test_tfidf, tags_teste_array)\n",
    "previsao_cadeia = classificador_cadeia.predict(perguntas_test_tfidf)\n",
    "hamming_loss_cadeia = hamming_loss(tags_teste_array, previsao_cadeia)\n",
    "print(\"Hamming Loss {0: .2f}\".format(hamming_loss_cadeia))\n",
    "print(\"Resultado {0: .2f}%\".format(resultado_cadeia*100))"
   ]
  },
  {
   "cell_type": "markdown",
   "id": "4625761c-bee2-4440-aa5f-f4a69b30a152",
   "metadata": {},
   "source": [
    "Temos uma outra opção que também se adequa ao nosso problema. O mlknn é um dos algoritmo adaptado para solucionar o problema de classificação multilabel. Um knn adaptado para classificação multilabel."
   ]
  },
  {
   "cell_type": "code",
   "execution_count": 17,
   "id": "1a9d1dc3-5d86-4015-b2ce-2bdfa52b948e",
   "metadata": {},
   "outputs": [
    {
     "name": "stderr",
     "output_type": "stream",
     "text": [
      "C:\\Users\\BlueShift\\anaconda3\\lib\\site-packages\\sklearn\\utils\\validation.py:70: FutureWarning: Pass n_neighbors=10 as keyword args. From version 1.0 (renaming of 0.25) passing these as positional arguments will result in an error\n",
      "  warnings.warn(f\"Pass {args_msg} as keyword args. From version \"\n"
     ]
    },
    {
     "name": "stdout",
     "output_type": "stream",
     "text": [
      "Hamming Loss  0.25\n",
      "Resultado  32.53%\n"
     ]
    }
   ],
   "source": [
    "from skmultilearn.adapt import MLkNN\n",
    "\n",
    "classificador_mlknn = MLkNN()\n",
    "classificador_mlknn.fit(perguntas_treino_tfidf, tags_treino_array)\n",
    "resultado_mlknn = classificador_mlknn.score(perguntas_test_tfidf, tags_teste_array)\n",
    "previsao_mlknn = classificador_mlknn.predict(perguntas_test_tfidf)\n",
    "hamming_loss_mlknn = hamming_loss(tags_teste_array, previsao_mlknn)\n",
    "print(\"Hamming Loss {0: .2f}\".format(hamming_loss_mlknn))\n",
    "print(\"Resultado {0: .2f}%\".format(resultado_mlknn*100))"
   ]
  },
  {
   "cell_type": "markdown",
   "id": "5ea9f9ae-9498-4002-a037-ab2a44987867",
   "metadata": {},
   "source": [
    "Organizando os nossos resultados para termos uma melhor visualização dos nossos resultados. "
   ]
  },
  {
   "cell_type": "code",
   "execution_count": 19,
   "id": "6adb91d6-ffea-4521-a024-cf13da32b7c0",
   "metadata": {},
   "outputs": [
    {
     "data": {
      "text/html": [
       "<div>\n",
       "<style scoped>\n",
       "    .dataframe tbody tr th:only-of-type {\n",
       "        vertical-align: middle;\n",
       "    }\n",
       "\n",
       "    .dataframe tbody tr th {\n",
       "        vertical-align: top;\n",
       "    }\n",
       "\n",
       "    .dataframe thead th {\n",
       "        text-align: right;\n",
       "    }\n",
       "</style>\n",
       "<table border=\"1\" class=\"dataframe\">\n",
       "  <thead>\n",
       "    <tr style=\"text-align: right;\">\n",
       "      <th></th>\n",
       "      <th>perguntas</th>\n",
       "      <th>tags real</th>\n",
       "      <th>cadeia</th>\n",
       "      <th>mlknn</th>\n",
       "    </tr>\n",
       "  </thead>\n",
       "  <tbody>\n",
       "    <tr>\n",
       "      <th>0</th>\n",
       "      <td>estou com conflito entre o  CODE   e os  CODE ...</td>\n",
       "      <td>(0, 1, 0, 0)</td>\n",
       "      <td>[0.0, 1.0, 0.0, 0.0]</td>\n",
       "      <td>[0, 0, 0, 0]</td>\n",
       "    </tr>\n",
       "    <tr>\n",
       "      <th>1</th>\n",
       "      <td>Estou fazendo um site que eu sou obrigado a us...</td>\n",
       "      <td>(0, 0, 1, 0)</td>\n",
       "      <td>[0.0, 0.0, 1.0, 0.0]</td>\n",
       "      <td>[0, 1, 1, 0]</td>\n",
       "    </tr>\n",
       "    <tr>\n",
       "      <th>2</th>\n",
       "      <td>Recentemente fiz um refactor do meu código par...</td>\n",
       "      <td>(1, 0, 0, 0)</td>\n",
       "      <td>[1.0, 0.0, 0.0, 0.0]</td>\n",
       "      <td>[1, 0, 0, 0]</td>\n",
       "    </tr>\n",
       "    <tr>\n",
       "      <th>3</th>\n",
       "      <td>Eu tenho esse código em CODE  que passo valore...</td>\n",
       "      <td>(0, 1, 1, 0)</td>\n",
       "      <td>[0.0, 1.0, 0.0, 0.0]</td>\n",
       "      <td>[0, 1, 1, 0]</td>\n",
       "    </tr>\n",
       "    <tr>\n",
       "      <th>4</th>\n",
       "      <td>Olá, em minha função tem o evento CODE  que de...</td>\n",
       "      <td>(0, 1, 1, 0)</td>\n",
       "      <td>[0.0, 1.0, 0.0, 0.0]</td>\n",
       "      <td>[0, 1, 1, 0]</td>\n",
       "    </tr>\n",
       "    <tr>\n",
       "      <th>...</th>\n",
       "      <td>...</td>\n",
       "      <td>...</td>\n",
       "      <td>...</td>\n",
       "      <td>...</td>\n",
       "    </tr>\n",
       "    <tr>\n",
       "      <th>1077</th>\n",
       "      <td>Estou a desenvolver um website em jQuery. E at...</td>\n",
       "      <td>(0, 1, 0, 0)</td>\n",
       "      <td>[0.0, 1.0, 1.0, 0.0]</td>\n",
       "      <td>[0, 0, 1, 0]</td>\n",
       "    </tr>\n",
       "    <tr>\n",
       "      <th>1078</th>\n",
       "      <td>Estou usando este plugin - jquery autocomplete...</td>\n",
       "      <td>(0, 1, 0, 0)</td>\n",
       "      <td>[0.0, 1.0, 0.0, 0.0]</td>\n",
       "      <td>[0, 1, 0, 0]</td>\n",
       "    </tr>\n",
       "    <tr>\n",
       "      <th>1079</th>\n",
       "      <td>Tenho o seguinte jQuery:  CODE   Nisto, quanti...</td>\n",
       "      <td>(0, 1, 0, 0)</td>\n",
       "      <td>[0.0, 1.0, 0.0, 0.0]</td>\n",
       "      <td>[0, 1, 0, 0]</td>\n",
       "    </tr>\n",
       "    <tr>\n",
       "      <th>1080</th>\n",
       "      <td>Estou usando o SimpleModal Contact Form de Eri...</td>\n",
       "      <td>(0, 1, 0, 0)</td>\n",
       "      <td>[0.0, 1.0, 0.0, 0.0]</td>\n",
       "      <td>[0, 1, 0, 0]</td>\n",
       "    </tr>\n",
       "    <tr>\n",
       "      <th>1081</th>\n",
       "      <td>Estou tento problemas com o webpack, gostaria ...</td>\n",
       "      <td>(0, 0, 0, 1)</td>\n",
       "      <td>[0.0, 0.0, 1.0, 0.0]</td>\n",
       "      <td>[0, 0, 1, 0]</td>\n",
       "    </tr>\n",
       "  </tbody>\n",
       "</table>\n",
       "<p>1082 rows × 4 columns</p>\n",
       "</div>"
      ],
      "text/plain": [
       "                                              perguntas     tags real  \\\n",
       "0     estou com conflito entre o  CODE   e os  CODE ...  (0, 1, 0, 0)   \n",
       "1     Estou fazendo um site que eu sou obrigado a us...  (0, 0, 1, 0)   \n",
       "2     Recentemente fiz um refactor do meu código par...  (1, 0, 0, 0)   \n",
       "3     Eu tenho esse código em CODE  que passo valore...  (0, 1, 1, 0)   \n",
       "4     Olá, em minha função tem o evento CODE  que de...  (0, 1, 1, 0)   \n",
       "...                                                 ...           ...   \n",
       "1077  Estou a desenvolver um website em jQuery. E at...  (0, 1, 0, 0)   \n",
       "1078  Estou usando este plugin - jquery autocomplete...  (0, 1, 0, 0)   \n",
       "1079  Tenho o seguinte jQuery:  CODE   Nisto, quanti...  (0, 1, 0, 0)   \n",
       "1080  Estou usando o SimpleModal Contact Form de Eri...  (0, 1, 0, 0)   \n",
       "1081  Estou tento problemas com o webpack, gostaria ...  (0, 0, 0, 1)   \n",
       "\n",
       "                    cadeia         mlknn  \n",
       "0     [0.0, 1.0, 0.0, 0.0]  [0, 0, 0, 0]  \n",
       "1     [0.0, 0.0, 1.0, 0.0]  [0, 1, 1, 0]  \n",
       "2     [1.0, 0.0, 0.0, 0.0]  [1, 0, 0, 0]  \n",
       "3     [0.0, 1.0, 0.0, 0.0]  [0, 1, 1, 0]  \n",
       "4     [0.0, 1.0, 0.0, 0.0]  [0, 1, 1, 0]  \n",
       "...                    ...           ...  \n",
       "1077  [0.0, 1.0, 1.0, 0.0]  [0, 0, 1, 0]  \n",
       "1078  [0.0, 1.0, 0.0, 0.0]  [0, 1, 0, 0]  \n",
       "1079  [0.0, 1.0, 0.0, 0.0]  [0, 1, 0, 0]  \n",
       "1080  [0.0, 1.0, 0.0, 0.0]  [0, 1, 0, 0]  \n",
       "1081  [0.0, 0.0, 1.0, 0.0]  [0, 0, 1, 0]  \n",
       "\n",
       "[1082 rows x 4 columns]"
      ]
     },
     "execution_count": 19,
     "metadata": {},
     "output_type": "execute_result"
    }
   ],
   "source": [
    "resultados_classificacao = pd.DataFrame()\n",
    "resultados_classificacao[\"perguntas\"] = perguntas_test.values\n",
    "resultados_classificacao[\"tags real\"] = list(tags_teste) # transformando em lista para \"zerar o index\" que foi randomizado pelo train_test_split\n",
    "resultados_classificacao[\"cadeia\"] = list(previsao_cadeia.toarray())\n",
    "resultados_classificacao[\"mlknn\"] = list(previsao_mlknn.toarray())\n",
    "resultados_classificacao\n",
    "     "
   ]
  },
  {
   "cell_type": "markdown",
   "id": "2bea08d6-e623-4b44-ae08-9b258c5fd295",
   "metadata": {},
   "source": [
    "### Teste isolado"
   ]
  },
  {
   "cell_type": "code",
   "execution_count": 24,
   "id": "654a7a51-38f7-4f84-a4fb-3c9dad6ebef5",
   "metadata": {},
   "outputs": [
    {
     "data": {
      "text/html": [
       "<div>\n",
       "<style scoped>\n",
       "    .dataframe tbody tr th:only-of-type {\n",
       "        vertical-align: middle;\n",
       "    }\n",
       "\n",
       "    .dataframe tbody tr th {\n",
       "        vertical-align: top;\n",
       "    }\n",
       "\n",
       "    .dataframe thead th {\n",
       "        text-align: right;\n",
       "    }\n",
       "</style>\n",
       "<table border=\"1\" class=\"dataframe\">\n",
       "  <thead>\n",
       "    <tr style=\"text-align: right;\">\n",
       "      <th></th>\n",
       "      <th>Perguntas</th>\n",
       "      <th>Tags</th>\n",
       "      <th>node.js</th>\n",
       "      <th>jquery</th>\n",
       "      <th>html</th>\n",
       "      <th>angular</th>\n",
       "      <th>todas_tags</th>\n",
       "    </tr>\n",
       "  </thead>\n",
       "  <tbody>\n",
       "    <tr>\n",
       "      <th>0</th>\n",
       "      <td>Possuo um projeto Node.js porém preciso criar ...</td>\n",
       "      <td>node.js</td>\n",
       "      <td>1</td>\n",
       "      <td>0</td>\n",
       "      <td>0</td>\n",
       "      <td>0</td>\n",
       "      <td>(1, 0, 0, 0)</td>\n",
       "    </tr>\n",
       "    <tr>\n",
       "      <th>1</th>\n",
       "      <td>Gostaria de fazer testes unitários no Node.js,...</td>\n",
       "      <td>node.js</td>\n",
       "      <td>1</td>\n",
       "      <td>0</td>\n",
       "      <td>0</td>\n",
       "      <td>0</td>\n",
       "      <td>(1, 0, 0, 0)</td>\n",
       "    </tr>\n",
       "  </tbody>\n",
       "</table>\n",
       "</div>"
      ],
      "text/plain": [
       "                                           Perguntas     Tags  node.js  \\\n",
       "0  Possuo um projeto Node.js porém preciso criar ...  node.js        1   \n",
       "1  Gostaria de fazer testes unitários no Node.js,...  node.js        1   \n",
       "\n",
       "   jquery  html  angular    todas_tags  \n",
       "0       0     0        0  (1, 0, 0, 0)  \n",
       "1       0     0        0  (1, 0, 0, 0)  "
      ]
     },
     "execution_count": 24,
     "metadata": {},
     "output_type": "execute_result"
    }
   ],
   "source": [
    "perguntas.head(2)"
   ]
  },
  {
   "cell_type": "code",
   "execution_count": 25,
   "id": "ebff9a83-0848-4886-b8d3-f67246fd6790",
   "metadata": {},
   "outputs": [
    {
     "data": {
      "text/plain": [
       "'Estou fazendo um site que eu sou obrigado a usar HTML, CSS e JavaScript no máximo. Só que muitas coisas que eu preciso do PhP eu não posso usar. Sendo assim eu estive pesquisando por sinonimo de CODE  e encontrei o seguinte, que ajudou em partes:  CODE   Tá, mas qual é o problema? Ele cria uma barra de rolagem do lado. Eu sei como remover com CSS, mas o texto que foi inserido rola só dentro da área da CODE  e eu queria que fizesse como se o texto inserido fizesse parte da página, como funciona no CODE  do PhP. A questão é, como fazer a mecânica do JavaScript nesse caso ficar igual ao do PhP?  Print para exemplificar: https://imgur.com/a/V9AGLgB '"
      ]
     },
     "execution_count": 25,
     "metadata": {},
     "output_type": "execute_result"
    }
   ],
   "source": [
    "resultados_classificacao.perguntas[1]"
   ]
  },
  {
   "cell_type": "code",
   "execution_count": 26,
   "id": "718eeec5-3166-4fbb-82b4-b5c7b3c0e4a6",
   "metadata": {},
   "outputs": [
    {
     "data": {
      "text/plain": [
       "perguntas    Estou fazendo um site que eu sou obrigado a us...\n",
       "tags real                                         (0, 0, 1, 0)\n",
       "cadeia                                    [0.0, 0.0, 1.0, 0.0]\n",
       "mlknn                                             [0, 1, 1, 0]\n",
       "Name: 1, dtype: object"
      ]
     },
     "execution_count": 26,
     "metadata": {},
     "output_type": "execute_result"
    }
   ],
   "source": [
    "resultados_classificacao.iloc[1]"
   ]
  },
  {
   "cell_type": "markdown",
   "id": "684165c2-ed74-4aaa-94b3-fedf0976a8b0",
   "metadata": {},
   "source": [
    "Neste exemplo percebemos que o método de Classificação em Cadeia classificou/\"tagueou\" corretamente como HTML a pergunta feita. Já o MLKNN além de classificar como HTML também classificou como jquery, erroneamente comparado com verdadeiro label."
   ]
  }
 ],
 "metadata": {
  "kernelspec": {
   "display_name": "Python 3 (ipykernel)",
   "language": "python",
   "name": "python3"
  },
  "language_info": {
   "codemirror_mode": {
    "name": "ipython",
    "version": 3
   },
   "file_extension": ".py",
   "mimetype": "text/x-python",
   "name": "python",
   "nbconvert_exporter": "python",
   "pygments_lexer": "ipython3",
   "version": "3.9.12"
  }
 },
 "nbformat": 4,
 "nbformat_minor": 5
}
